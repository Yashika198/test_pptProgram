{
 "cells": [
  {
   "cell_type": "code",
   "execution_count": 1,
   "id": "0faf3f04-395a-4032-a26a-929994397f67",
   "metadata": {},
   "outputs": [],
   "source": [
    "def push_zeroes_to_end(nums):\n",
    "    j=0\n",
    "    for i in range(len(nums)):\n",
    "        if nums[i]!=0:\n",
    "            ##swapping the elements\n",
    "            ##to move zeroes at end\n",
    "            ##in-place\n",
    "            nums[i],nums[j]=nums[j],nums[i]\n",
    "            j+=1\n",
    "    print(nums)     "
   ]
  },
  {
   "cell_type": "code",
   "execution_count": 3,
   "id": "29c44710-dda2-4270-a971-2912186394ef",
   "metadata": {},
   "outputs": [
    {
     "name": "stdout",
     "output_type": "stream",
     "text": [
      "[1, 3, 12, 0, 0]\n"
     ]
    }
   ],
   "source": [
    "push_zeroes_to_end(nums=[0,1,0,3,12])"
   ]
  },
  {
   "cell_type": "code",
   "execution_count": 11,
   "id": "b099cb27-eb01-4351-943a-c247d1b8880b",
   "metadata": {},
   "outputs": [],
   "source": [
    "##using hashmap\n",
    "##Time complexity:O(n)\n",
    "##Space complexity:O(n)\n",
    "##space complexity can be optimized but we are trying to avoid string functions\n",
    "def firstUniqueCharacter(s):\n",
    "    freq={}\n",
    "    n=len(s)\n",
    "    for i in s:\n",
    "        if i in freq:\n",
    "            freq[i]+=1\n",
    "        else:\n",
    "            freq[i]=1\n",
    "    for i ,r in enumerate(s):\n",
    "        if (freq[r]==1):\n",
    "            return i\n",
    "    return -1"
   ]
  },
  {
   "cell_type": "code",
   "execution_count": 12,
   "id": "b3b84dd3-0a2e-48a0-9c6a-f66a1b558b28",
   "metadata": {},
   "outputs": [
    {
     "data": {
      "text/plain": [
       "0"
      ]
     },
     "execution_count": 12,
     "metadata": {},
     "output_type": "execute_result"
    }
   ],
   "source": [
    "firstUniqueCharacter(s=\"leetcode\")"
   ]
  },
  {
   "cell_type": "code",
   "execution_count": null,
   "id": "88bef71f-4a4e-4a76-b0c5-7b35deb08897",
   "metadata": {},
   "outputs": [],
   "source": []
  }
 ],
 "metadata": {
  "kernelspec": {
   "display_name": "Python 3 (ipykernel)",
   "language": "python",
   "name": "python3"
  },
  "language_info": {
   "codemirror_mode": {
    "name": "ipython",
    "version": 3
   },
   "file_extension": ".py",
   "mimetype": "text/x-python",
   "name": "python",
   "nbconvert_exporter": "python",
   "pygments_lexer": "ipython3",
   "version": "3.10.8"
  }
 },
 "nbformat": 4,
 "nbformat_minor": 5
}
